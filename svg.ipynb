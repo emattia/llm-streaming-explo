{
 "cells": [
  {
   "cell_type": "code",
   "execution_count": null,
   "metadata": {},
   "outputs": [],
   "source": [
    "from typing import Dict\n",
    "\n",
    "def make_typewriter_svg(\n",
    "\n",
    "    # a string we wish to animate\n",
    "    text: str = \"make it even more epic!\", \n",
    "\n",
    "    # viewPort is like a window\n",
    "    viewPort: Dict[str, str] = {\"width\": \"100\", \"height\": \"100\"}, \n",
    "\n",
    "    # viewBox is like a telescope\n",
    "    viewBox: str =  \"0 0 100 100\",\n",
    "    # <svg viewbox=“X Y maxX maxY ”>\n",
    "        # increase maxX and maxY means zoom out.\n",
    "        # to pan left/right, decrease/increase X. \n",
    "\n",
    "    font_family: str = \"typewriter\",\n",
    "    font_size: int = 10,\n",
    "    duration: float = 5,\n",
    "    repeatCount: str = \"indefinite\",\n",
    "    color:str = \"#F7E8D3\",\n",
    "\n",
    "):\n",
    "\n",
    "    # shift to the left by an amount that centers the text on the screen\n",
    "    shiftX = len(text) * font_size / 2\n",
    "\n",
    "    svg_template = f\"\"\"\n",
    "    <svg width=\"{viewPort['width']}\">\n",
    "        <path id=\"text-path\">\n",
    "            <animate id=\"typing\" attributeName=\"d\" from=\"m0,{viewPort['height']/2} h0\" to=\"m0,{viewPort['height']/2} h1100\" begin=\"0s\" dur=\"{duration}s\" repeatCount=\"{repeatCount}\"/>\n",
    "        </path>\n",
    "        <text \n",
    "            x={width/2 - shiftX} \n",
    "            y={height/2}\n",
    "            fill=\"{color}\"\n",
    "            font-family=\"typewriter\"\n",
    "        > \t\n",
    "            <textPath xlink:href=\"#text-path\">\n",
    "                Make it more epic\n",
    "            </textPath>\n",
    "        </text>\n",
    "    </svg>\n",
    "    \"\"\""
   ]
  }
 ],
 "metadata": {
  "language_info": {
   "name": "python"
  }
 },
 "nbformat": 4,
 "nbformat_minor": 2
}
