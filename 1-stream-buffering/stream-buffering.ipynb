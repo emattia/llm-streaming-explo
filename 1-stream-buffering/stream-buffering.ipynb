{
 "cells": [
  {
   "cell_type": "code",
   "execution_count": 35,
   "metadata": {},
   "outputs": [
    {
     "data": {
      "text/plain": [
       "True"
      ]
     },
     "execution_count": 35,
     "metadata": {},
     "output_type": "execute_result"
    }
   ],
   "source": [
    "from dotenv import load_dotenv\n",
    "load_dotenv('../.env')"
   ]
  },
  {
   "cell_type": "markdown",
   "metadata": {},
   "source": [
    "# LLM Streaming 101\n",
    "\n",
    "If you look at documentation for using LLM APIs in Python, you will see text from the API unpacked like in the following langchain example."
   ]
  },
  {
   "cell_type": "code",
   "execution_count": 40,
   "metadata": {},
   "outputs": [
    {
     "name": "stdout",
     "output_type": "stream",
     "text": [
      "\n",
      "\n",
      "Verse 1:\n",
      "I'm sitting here, staring at my screen\n",
      "Waiting for the video to start, it seems\n",
      "But all I see is that spinning wheel\n",
      "My patience is wearing thin, I can feel\n",
      "\n",
      "Pre-Chorus:\n",
      "I just wanna watch my favorite show\n",
      "But this buffering is so slow\n",
      "I'm getting frustrated, can't you see\n",
      "Why won't this stream just let me be?\n",
      "\n",
      "Chorus:\n",
      "Stream buffering, it's such a pain\n",
      "I just wanna watch, but it's all in vain\n",
      "I'm stuck in this endless loop\n",
      "Oh, stream buffering, what's the scoop?\n",
      "\n",
      "Verse 2:\n",
      "I've tried refreshing, I've tried to wait\n",
      "But this buffering just won't abate\n",
      "I've checked my connection, it's all good\n",
      "So why won't this video play like it should?\n",
      "\n",
      "Pre-Chorus:\n",
      "I just wanna watch my favorite show\n",
      "But this buffering is so slow\n",
      "I'm getting frustrated, can't you see\n",
      "Why won't this stream just let me be?\n",
      "\n",
      "Chorus:\n",
      "Stream buffering, it's such a pain\n",
      "I just wanna watch, but it's all in vain\n",
      "I'm stuck in this endless loop\n",
      "Oh, stream buffering, what's the scoop?\n",
      "\n",
      "Bridge:\n",
      "I've been waiting for what feels like hours\n",
      "But this buffering just has no powers\n",
      "To let me watch without a hitch\n",
      "Oh, stream buffering, you're such a glitch\n",
      "\n",
      "Chorus:\n",
      "Stream buffering, it's such a pain\n",
      "I just wanna watch, but it's all in vain\n",
      "I'm stuck in this endless loop\n",
      "Oh, stream buffering, what's the scoop?\n",
      "\n",
      "Outro:\n",
      "Stream buffering, please let me be\n",
      "I just wanna watch my show, can't you see?\n",
      "But until then, I'll just have to wait\n",
      "For this buffering to dissipate."
     ]
    }
   ],
   "source": [
    "from langchain.llms import OpenAI\n",
    "llm = OpenAI(model=\"gpt-3.5-turbo-instruct\", temperature=0, max_tokens=512)\n",
    "for chunk in llm.stream(\"Write me a song about stream buffering.\"):\n",
    "    print(chunk, end=\"\", flush=True)"
   ]
  },
  {
   "cell_type": "markdown",
   "metadata": {},
   "source": [
    "# The typewriter effect in Python\n",
    "\n",
    "> I want to make a program which reads characters from a string and prints each character after some delay so it looks like a typewriter effect."
   ]
  },
  {
   "cell_type": "code",
   "execution_count": 20,
   "metadata": {},
   "outputs": [],
   "source": [
    "from time import sleep\n",
    "def typewriter(text: str, per_char_delay: float = 0.045) -> None:\n",
    "    for char in text:\n",
    "        sleep(per_char_delay)\n",
    "        print(char, end=\"\", flush=True) # fancy print to unbuffer the output\n",
    "        # wondering what is this combination of end=\"\" and flush=True? \n",
    "        # keep reading this notebook. seasoned pythonistas can skip ahead."
   ]
  },
  {
   "cell_type": "code",
   "execution_count": 22,
   "metadata": {},
   "outputs": [
    {
     "name": "stdout",
     "output_type": "stream",
     "text": [
      "\n",
      "The golden moments in the stream of life rush past us, \n",
      "           and we see nothing but sand; the angels come to visit us, \n",
      "           and we only know them when they are gone."
     ]
    }
   ],
   "source": [
    "typewriter(\"\"\"\n",
    "The golden moments in the stream of life rush past us, \n",
    "           and we see nothing but sand; the angels come to visit us, \n",
    "           and we only know them when they are gone.\"\"\")"
   ]
  },
  {
   "cell_type": "markdown",
   "metadata": {},
   "source": [
    "# Understanding streams and buffering in Python\n",
    "\n",
    "## Concepts\n",
    "- buffering: put part of a data stream in a buffer, at some point write the contents of the buffer to an output stream and \"flush\" the buffer.\n",
    "    - a buffer is a region of memory used to temporarily hold data while it is being moved from one place to another.\n",
    "- stream: raw bytes (`BufferedReader`, `BufferedWriter`) or text (`TextIOWrapper`). \n",
    "- `print()` function: the most common way of writing to a file stream in Python.\n",
    "- `sys.stdout`: the standard output stream that `print()` writes to by default.\n",
    "- `sys.stdout.flush()`: a call to flush the standard output stream."
   ]
  },
  {
   "cell_type": "markdown",
   "metadata": {},
   "source": [
    "## What is `print()`?\n",
    "- The Python `print` function wraps the C function `PyFile_WriteObject`. [Implementation here](https://github.com/python/cpython/blob/0066ab5bc58a036b3f448cd6f9bbdd92120e39ba/Python/bltinmodule.c#L2014-L2106).\n",
    "- `PyFile_WriteObject` writes an object to a _file stream_. "
   ]
  },
  {
   "cell_type": "markdown",
   "metadata": {},
   "source": [
    "### What is `print(end=\"\", flush=True)`?\n",
    "\n",
    "#### `end=\"\"`\n",
    "The `end` parameter of the `print()` function allows you to change the string that is appended to the end of the string that is printed. \n",
    "\n",
    "By default , `print()` appends a newline character to the end of the string it prints. This is because the `print()` function calls `PyFile_WriteObject` with the `Py_PRINT_RAW` flag set to `0`. This flag tells `PyFile_WriteObject` to append a newline character to the end of the string it writes to the file stream. You can see this in action [here](https://github.com/python/cpython/blob/0066ab5bc58a036b3f448cd6f9bbdd92120e39ba/Objects/fileobject.c#L108-L138).\n",
    "\n",
    "#### `flush=True`\n",
    "The `flush` parameter allows you to flush the file stream after the string is printed. "
   ]
  },
  {
   "cell_type": "code",
   "execution_count": 33,
   "metadata": {},
   "outputs": [],
   "source": [
    "def weird_typewriter_with_newline(text: str, per_char_delay: float = 0.045) -> None:\n",
    "    for char in text:\n",
    "        sleep(per_char_delay)\n",
    "        print(char, flush=True) # no end=\"\" here, so it unbuffers like before but defaults to printing a newline"
   ]
  },
  {
   "cell_type": "code",
   "execution_count": 34,
   "metadata": {},
   "outputs": [
    {
     "name": "stdout",
     "output_type": "stream",
     "text": [
      "\n",
      "\n",
      "I\n",
      "f\n",
      " \n",
      "y\n",
      "o\n",
      "u\n",
      " \n",
      "a\n",
      "d\n",
      "m\n",
      "i\n",
      "r\n",
      "e\n",
      " \n",
      "s\n",
      "o\n",
      "m\n",
      "e\n",
      "b\n",
      "o\n",
      "d\n",
      "y\n",
      ",\n",
      " \n",
      "y\n",
      "o\n",
      "u\n",
      " \n",
      "s\n",
      "h\n",
      "o\n",
      "u\n",
      "l\n",
      "d\n",
      " \n",
      "g\n",
      "o\n",
      " \n",
      "a\n",
      "h\n",
      "e\n",
      "a\n",
      "d\n",
      " \n",
      "a\n",
      "n\n",
      "d\n",
      " \n",
      "t\n",
      "e\n",
      "l\n",
      "l\n",
      " \n",
      "t\n",
      "h\n",
      "e\n",
      "m\n",
      ".\n",
      " \n",
      "\n",
      "\n",
      " \n",
      " \n",
      " \n",
      " \n",
      " \n",
      " \n",
      " \n",
      " \n",
      " \n",
      " \n",
      " \n",
      "P\n",
      "e\n",
      "o\n",
      "p\n",
      "l\n",
      "e\n",
      " \n",
      "n\n",
      "e\n",
      "v\n",
      "e\n",
      "r\n",
      " \n",
      "g\n",
      "e\n",
      "t\n",
      " \n",
      "t\n",
      "h\n",
      "e\n",
      " \n",
      "f\n",
      "l\n",
      "o\n",
      "w\n",
      "e\n",
      "r\n",
      "s\n",
      " \n",
      "w\n",
      "h\n",
      "i\n",
      "l\n",
      "e\n",
      " \n",
      "t\n",
      "h\n",
      "e\n",
      "y\n",
      " \n",
      "c\n",
      "a\n",
      "n\n",
      " \n",
      "s\n",
      "t\n",
      "i\n",
      "l\n",
      "l\n",
      " \n",
      "s\n",
      "m\n",
      "e\n",
      "l\n",
      "l\n",
      " \n",
      "t\n",
      "h\n",
      "e\n",
      "m\n",
      ".\n"
     ]
    }
   ],
   "source": [
    "weird_typewriter_with_newline(\"\"\"\n",
    "If you admire somebody, you should go ahead and tell them. \n",
    "           People never get the flowers while they can still smell them.\"\"\")"
   ]
  },
  {
   "cell_type": "markdown",
   "metadata": {},
   "source": [
    "## What is a file stream?"
   ]
  },
  {
   "cell_type": "code",
   "execution_count": 12,
   "metadata": {},
   "outputs": [
    {
     "name": "stdout",
     "output_type": "stream",
     "text": [
      "Never forget that only dead fish swim with the stream.\n",
      "Never forget that only dead fish swim with the stream.\n"
     ]
    }
   ],
   "source": [
    "import sys\n",
    "\n",
    "# The default default file stream is sys.stdout \n",
    "text = \"Never forget that only dead fish swim with the stream.\"\n",
    "print(text)\n",
    "sys.stdout.write(text + '\\n'); \n",
    "# adding '\\n' \"flushes the buffer\", which print adds by default"
   ]
  },
  {
   "cell_type": "code",
   "execution_count": 13,
   "metadata": {},
   "outputs": [
    {
     "name": "stderr",
     "output_type": "stream",
     "text": [
      "If it weren't for the rocks in its bed, the stream would have no song.\n"
     ]
    }
   ],
   "source": [
    "# change the file stream to sys.stderr\n",
    "print(\"If it weren't for the rocks in its bed, the stream would have no song.\", file=sys.stderr)"
   ]
  },
  {
   "cell_type": "code",
   "execution_count": 25,
   "metadata": {},
   "outputs": [],
   "source": [
    "# change the file stream to a regular file\n",
    "with open(\"regular-file.txt\", 'w') as f: # more on what `open` is in the next section\n",
    "    print(\"Life is an unending stream of extenuating circumstances.\", file=f)"
   ]
  },
  {
   "cell_type": "code",
   "execution_count": 26,
   "metadata": {},
   "outputs": [
    {
     "name": "stdout",
     "output_type": "stream",
     "text": [
      "Life is an unending stream of extenuating circumstances.\n"
     ]
    }
   ],
   "source": [
    "# look at the contents of the file\n",
    "! cat regular-file.txt\n",
    "! rm regular-file.txt # remove the file"
   ]
  },
  {
   "cell_type": "markdown",
   "metadata": {},
   "source": [
    "## The `sys.stdout` and `open` file streams"
   ]
  },
  {
   "cell_type": "markdown",
   "metadata": {},
   "source": [
    "The default file stream is `sys.stdout` which is a `TextIOWrapper` object. The `TextIOWrapper` object wraps the `BufferedWriter` object which is a buffered writer. The `BufferedWriter` object wraps the `BufferedWriterRaw` object which is a buffered raw writer. The `BufferedWriterRaw` object wraps the `FileIO` object which is a file object. The `FileIO` object wraps the C `FILE` object which is a buffered writer.\n",
    "\n",
    "Let's unpack this gibberish.\n",
    "\n",
    "### Concepts\n",
    "- [The `io` module](https://docs.python.org/3/library/io.html)\n",
    "- What actually is `open` and how does it relate to `sys.stdout`? "
   ]
  },
  {
   "cell_type": "code",
   "execution_count": 28,
   "metadata": {},
   "outputs": [
    {
     "name": "stdout",
     "output_type": "stream",
     "text": [
      "<class '_io.TextIOWrapper'>\n",
      "True\n"
     ]
    }
   ],
   "source": [
    "# make a TextIOWrapper\n",
    "import io \n",
    "\n",
    "with open('something.txt', 'w') as f:\n",
    "    print(type(f))\n",
    "    print(isinstance(f, io.TextIOWrapper))\n",
    "    \n",
    "! rm something.txt # clean up the random file we created"
   ]
  },
  {
   "cell_type": "code",
   "execution_count": 30,
   "metadata": {},
   "outputs": [
    {
     "name": "stdout",
     "output_type": "stream",
     "text": [
      "<class 'ipykernel.iostream.OutStream'>\n",
      "False\n"
     ]
    }
   ],
   "source": [
    "print(type(sys.stdout))\n",
    "print(isinstance(sys.stdout, io.TextIOWrapper)) # why are you false? 🤔\n",
    "\n",
    "# hmm, what is up with the output of this cell and title of this section?\n",
    "# notice running this code has a different in a notebook vs. in a regular python repl 🥸\n",
    "# open your terminal and try it after typing `python`.\n",
    "# you will see that sys.stdout is in fact an instance of the same object that the `f` we created with `open` in the previous cell is.\n",
    "\n",
    "# lesson: `sys.stdout` and `open` are both `TextIOWrapper` objects."
   ]
  },
  {
   "cell_type": "markdown",
   "metadata": {},
   "source": [
    "## Text vs. everything else\n",
    "- `TextIOWrapper` is a buffered text stream.\n",
    "- `TextIOWrapper` wraps a `BufferedWriter`, which can work on any kind of data (e.g., images, audio, video). "
   ]
  },
  {
   "cell_type": "code",
   "execution_count": 32,
   "metadata": {},
   "outputs": [
    {
     "name": "stdout",
     "output_type": "stream",
     "text": [
      "<class '_io.TextIOWrapper'>\n",
      "True\n",
      "False\n",
      "<class '_io.BufferedWriter'>\n",
      "False\n",
      "True\n"
     ]
    }
   ],
   "source": [
    "# open a file in write mode for text and binary data\n",
    "for mode in ['w', 'wb']:\n",
    "    with open('throwaway-file', mode) as f:\n",
    "        print(type(f))\n",
    "        print(isinstance(f, io.TextIOWrapper))\n",
    "        print(isinstance(f, io.BufferedWriter))    \n",
    "\n",
    "! rm throwaway-file # clean up the random file we created"
   ]
  }
 ],
 "metadata": {
  "kernelspec": {
   "display_name": "llm-typewriter",
   "language": "python",
   "name": "python3"
  },
  "language_info": {
   "codemirror_mode": {
    "name": "ipython",
    "version": 3
   },
   "file_extension": ".py",
   "mimetype": "text/x-python",
   "name": "python",
   "nbconvert_exporter": "python",
   "pygments_lexer": "ipython3",
   "version": "3.12.1"
  }
 },
 "nbformat": 4,
 "nbformat_minor": 2
}
