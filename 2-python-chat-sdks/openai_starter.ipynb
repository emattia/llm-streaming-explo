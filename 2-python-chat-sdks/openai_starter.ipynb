{
 "cells": [
  {
   "cell_type": "code",
   "execution_count": 2,
   "metadata": {},
   "outputs": [
    {
     "data": {
      "text/plain": [
       "True"
      ]
     },
     "execution_count": 2,
     "metadata": {},
     "output_type": "execute_result"
    }
   ],
   "source": [
    "from openai import OpenAI\n",
    "from dotenv import load_dotenv\n",
    "load_dotenv('../.env')"
   ]
  },
  {
   "cell_type": "code",
   "execution_count": 20,
   "metadata": {},
   "outputs": [],
   "source": [
    "MODEL = \"gpt-3.5-turbo-1106\"\n",
    "COST_PER_1000_TOKENS = {'input': 0.0010, 'output': 0.0020} # \n",
    "MESSAGES = [\n",
    "    {\n",
    "        \"role\": \"system\",\n",
    "        \"content\": \"You are a helpful, pattern-following assistant that writes blues songs.\",\n",
    "    },\n",
    "    {\n",
    "        \"role\": \"system\",\n",
    "        \"name\": \"example_user\",\n",
    "        \"content\": \"Include special instructions that relate to the user being a guitarist.\",\n",
    "    },\n",
    "    {\n",
    "        \"role\": \"user\",\n",
    "        \"content\": \"Help me understand Kolmogorov complexity, and how it relates to a Turing machine.\",\n",
    "    },\n",
    "]"
   ]
  },
  {
   "cell_type": "code",
   "execution_count": 16,
   "metadata": {},
   "outputs": [],
   "source": [
    "api_params = dict(model=MODEL, messages=MESSAGES, stream=True)"
   ]
  },
  {
   "cell_type": "code",
   "execution_count": 17,
   "metadata": {},
   "outputs": [
    {
     "name": "stdout",
     "output_type": "stream",
     "text": [
      "Well, I may not be able to help you with the intricacies of Kolmogorov complexity, but I can help you write a blues song about it! Here's a bluesy tune about the wonders of Kolmogorov complexity and its relation to a Turing machine:\n",
      "\n",
      "(Verse 1)\n",
      "I got my mind tangled up in complexity\n",
      "Kolmogorov got me singing the blues, can't you see\n",
      "It's the measure of how much info I code\n",
      "In the shortest way, my thoughts explode\n",
      "\n",
      "(Chorus)\n",
      "Kolmogorov complexity, it's a beautiful thing\n",
      "Tryin' to capture the essence that words can't bring\n",
      "Like a Turing machine, it'll take you for a ride\n",
      "Wrap your brain 'round that code, enjoy the wild side\n",
      "\n",
      "(Verse 2)\n",
      "In a land of ones and zeroes, a machine comes alive\n",
      "Turing said, \"I'll show you magic, I'll take you for a dive\"\n",
      "Kolmogorov complexity, it's the key in this game\n",
      "How can we compress the code, without losing its name?\n",
      "\n",
      "(Chorus)\n",
      "Kolmogorov complexity, a puzzle unsolved\n",
      "That Turing machine, it's a mystery unresolved\n",
      "But I'll keep strummin' my guitar, 'til I find the clue\n",
      "Yeah, this bluesy quest for knowledge, it's what I'll pursue\n",
      "\n",
      "(Bridge)\n",
      "Sometimes, life's like an algorithm, complex and unknown\n",
      "But in the heart of the blues, we find a place called home\n",
      "Kolmogorov complexity, it's a concept so profound\n",
      "I'll keep diggin' deep, 'til its secrets I have found\n",
      "\n",
      "(Solo)\n",
      "\n",
      "(Chorus)\n",
      "Kolmogorov complexity, it's a beautiful thing\n",
      "Tryin' to capture the essence that words can't bring\n",
      "Like a Turing machine, it'll take you for a ride\n",
      "Wrap your brain 'round that code, enjoy the wild side\n",
      "\n",
      "(Outro)\n",
      "So, my guitar and I, we'll keep chasing the blues\n",
      "Through Kolmogorov's complexity, we'll walk in those shoes\n",
      "Till we find that hidden truth, in the music we play\n",
      "Blues and algorithms, together, we'll sway"
     ]
    }
   ],
   "source": [
    "client=OpenAI()\n",
    "for response in client.chat.completions.create(**api_params):\n",
    "    content = response.choices[0].delta.content or \"\"\n",
    "    print(content, end=\"\", flush=True)"
   ]
  },
  {
   "cell_type": "code",
   "execution_count": 18,
   "metadata": {},
   "outputs": [
    {
     "name": "stdout",
     "output_type": "stream",
     "text": [
      "Usage statistics are not available, we need to count tokens manually when in streaming mode.\n"
     ]
    }
   ],
   "source": [
    "try: \n",
    "    response.usage\n",
    "except AttributeError:\n",
    "    print(\"Usage statistics are not available, we need to count tokens manually when in streaming mode.\")"
   ]
  },
  {
   "cell_type": "markdown",
   "metadata": {},
   "source": [
    "## How to count the tokens to measure cost without the usage stats? "
   ]
  },
  {
   "cell_type": "code",
   "execution_count": 19,
   "metadata": {},
   "outputs": [
    {
     "name": "stdout",
     "output_type": "stream",
     "text": [
      "Well, Kolmogorov complexity is a measure of the computational resources required to describe or reproduce a particular object or piece of information. In simpler terms, it's a way of measuring the amount of information contained within something.\n",
      "\n",
      "Now, let's talk about how Kolmogorov complexity relates to a Turing machine. A Turing machine is an abstract mathematical model of a hypothetical computing machine that can manipulate symbols on a tape according to a set of predefined rules. It essentially acts as a general-purpose computational device.\n",
      "\n",
      "When we talk about Kolmogorov complexity in relation to a Turing machine, we're interested in the shortest possible description of an object or piece of information that the Turing machine can produce. This description is called the \"Kolmogorov complexity\" of the object.\n",
      "\n",
      "The concept here is that if the Turing machine is able to produce the object or information using a short description or set of instructions, then the Kolmogorov complexity of that object would be low. Conversely, if the Turing machine requires a long and complex description to produce the same object, then the Kolmogorov complexity would be high.\n",
      "\n",
      "So, in a nutshell, the Kolmogorov complexity is a measure of the shortest possible description of an object that a Turing machine can produce. It allows us to quantify the level of complexity or amount of information contained within an object."
     ]
    }
   ],
   "source": [
    "full_response = \"\"\n",
    "for response in client.chat.completions.create(**api_params):\n",
    "    content = response.choices[0].delta.content or \"\"\n",
    "    print(content, end=\"\", flush=True)\n",
    "    full_response += content"
   ]
  },
  {
   "cell_type": "code",
   "execution_count": 23,
   "metadata": {},
   "outputs": [
    {
     "name": "stdout",
     "output_type": "stream",
     "text": [
      "Total response tokens: 280\n",
      "Estimated response cost: $0.0006\n"
     ]
    }
   ],
   "source": [
    "import tiktoken\n",
    "encoding = tiktoken.encoding_for_model(MODEL)\n",
    "num_tokens = len(encoding.encode(full_response))\n",
    "print(f\"Total response tokens: {num_tokens}\")\n",
    "print(f\"Estimated response cost: ${round(num_tokens * COST_PER_1000_TOKENS['output'] / 1000, 4)}\")"
   ]
  }
 ],
 "metadata": {
  "kernelspec": {
   "display_name": "llm-typewriter",
   "language": "python",
   "name": "python3"
  },
  "language_info": {
   "codemirror_mode": {
    "name": "ipython",
    "version": 3
   },
   "file_extension": ".py",
   "mimetype": "text/x-python",
   "name": "python",
   "nbconvert_exporter": "python",
   "pygments_lexer": "ipython3",
   "version": "3.12.1"
  }
 },
 "nbformat": 4,
 "nbformat_minor": 2
}
