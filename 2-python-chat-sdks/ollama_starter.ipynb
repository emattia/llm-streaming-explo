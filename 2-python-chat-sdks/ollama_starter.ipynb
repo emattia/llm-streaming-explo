{
 "cells": [
  {
   "cell_type": "markdown",
   "metadata": {},
   "source": [
    "https://github.com/jmorganca/ollama/blob/main/api/client.py"
   ]
  },
  {
   "cell_type": "code",
   "execution_count": 1,
   "metadata": {},
   "outputs": [],
   "source": [
    "import json\n",
    "import requests\n",
    "\n",
    "# NOTE: ollama must be running for this to work, start the ollama app or run `ollama serve`\n",
    "model = \"llama2\"  # TODO: update this for whatever model you wish to use\n",
    "\n",
    "def chat_iter(\n",
    "    messages = [\n",
    "        { \"role\": \"user\", \"content\": \"why is the sky blue?\" }\n",
    "    ],\n",
    "    model = \"llama2\",\n",
    "    url=\"http://localhost:11434/api/chat\"\n",
    "):\n",
    "    with requests.post(url, json={\"model\": model, \"messages\": messages}, stream=True) as r:\n",
    "        r.raise_for_status()\n",
    "        output = \"\"\n",
    "        for line in r.iter_lines():\n",
    "            body = json.loads(line)\n",
    "            if \"error\" in body:\n",
    "                raise Exception(body[\"error\"])\n",
    "            if body.get(\"done\") is False:\n",
    "                message = body.get(\"message\", \"\")\n",
    "                content = message.get(\"content\", \"\")\n",
    "                output += content\n",
    "                print(content, end=\"\", flush=True)\n",
    "            if body.get(\"done\", False):\n",
    "                message[\"content\"] = output\n",
    "                message[\"n_prompt_tokens\"] = body.get(\"prompt_eval_count\", 0)\n",
    "                message[\"n_response_tokens\"] = body.get(\"eval_count\", 0)\n",
    "    return message"
   ]
  },
  {
   "cell_type": "code",
   "execution_count": 2,
   "metadata": {},
   "outputs": [
    {
     "name": "stdout",
     "output_type": "stream",
     "text": [
      "Ah, a curious question! The sky appears blue because of the way light scatters as it passes through the Earth's atmosphere. When sunlight enters the atmosphere, it encounters tiny molecules of gases such as nitrogen and oxygen. These molecules absorb some of the light, but they scatter the shorter wavelengths (like blue and violet) more than the longer wavelengths (like red and orange). This is known as Rayleigh scattering.\n",
      "\n",
      "As a result of this scattering, the blue light is distributed throughout the atmosphere, giving the sky its blue color. The same principle applies to why the ocean appears blue - it's not because of any actual blue color in the water itself, but rather because of the way light scatters as it travels through the water and into our eyes.\n",
      "\n",
      "So there you have it! That's why the sky is blue. 🌌"
     ]
    }
   ],
   "source": [
    "messages = [\n",
    "    { \"role\": \"assistant\", \"content\": \"you are a helpful assistant.\" },\n",
    "    { \"role\": \"user\", \"content\": \"why is the sky blue?\" }\n",
    "]\n",
    "response = chat_iter(messages = messages)"
   ]
  },
  {
   "cell_type": "code",
   "execution_count": 74,
   "metadata": {},
   "outputs": [
    {
     "data": {
      "text/plain": [
       "{'role': 'assistant',\n",
       " 'content': \"Ah, a curious question! The sky appears blue because of the way that light scatters in the Earth's atmosphere. When sunlight enters the atmosphere, it encounters tiny molecules of gases such as nitrogen and oxygen. These molecules absorb and scatter the light in all directions, but they scatter shorter (blue) wavelengths more than longer (red) wavelengths. This is known as Rayleigh scattering.\\n\\nAs a result of this scattering, the blue light is distributed throughout the atmosphere, giving the sky its characteristic blue color. The blue color can also be affected by other factors such as the amount of dust and water vapor in the air, but the main cause of the blue color of the sky is Rayleigh scattering.\\n\\nSo, to summarize: the sky appears blue because of the way light is scattered in the Earth's atmosphere, with the shorter blue wavelengths being scattered more than the longer red wavelengths.\",\n",
       " 'n_prompt_tokens': 50,\n",
       " 'n_response_tokens': 212}"
      ]
     },
     "execution_count": 74,
     "metadata": {},
     "output_type": "execute_result"
    }
   ],
   "source": [
    "response"
   ]
  }
 ],
 "metadata": {
  "kernelspec": {
   "display_name": "llm-typewriter",
   "language": "python",
   "name": "python3"
  },
  "language_info": {
   "codemirror_mode": {
    "name": "ipython",
    "version": 3
   },
   "file_extension": ".py",
   "mimetype": "text/x-python",
   "name": "python",
   "nbconvert_exporter": "python",
   "pygments_lexer": "ipython3",
   "version": "3.12.1"
  }
 },
 "nbformat": 4,
 "nbformat_minor": 2
}
