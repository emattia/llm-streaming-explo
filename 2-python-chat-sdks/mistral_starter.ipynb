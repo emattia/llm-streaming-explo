{
 "cells": [
  {
   "cell_type": "code",
   "execution_count": 8,
   "metadata": {},
   "outputs": [
    {
     "data": {
      "text/plain": [
       "True"
      ]
     },
     "execution_count": 8,
     "metadata": {},
     "output_type": "execute_result"
    }
   ],
   "source": [
    "from mistralai.client import MistralClient\n",
    "from mistralai.models.chat_completion import ChatMessage\n",
    "from dotenv import load_dotenv\n",
    "load_dotenv('../.env')"
   ]
  },
  {
   "cell_type": "code",
   "execution_count": 12,
   "metadata": {},
   "outputs": [],
   "source": [
    "client = MistralClient()"
   ]
  },
  {
   "cell_type": "code",
   "execution_count": 64,
   "metadata": {},
   "outputs": [],
   "source": [
    "model_list = client.list_models()"
   ]
  },
  {
   "cell_type": "code",
   "execution_count": 69,
   "metadata": {},
   "outputs": [
    {
     "name": "stdout",
     "output_type": "stream",
     "text": [
      "mistral-medium\n",
      "mistral-small\n",
      "mistral-tiny\n",
      "mistral-embed\n"
     ]
    }
   ],
   "source": [
    "for model in model_list.data:\n",
    "    print(model.id)"
   ]
  },
  {
   "cell_type": "code",
   "execution_count": 10,
   "metadata": {},
   "outputs": [],
   "source": [
    "MODEL = 'mistral-tiny'\n",
    "MESSAGES = [\n",
    "    ChatMessage(role=\"user\", content=\"What is the best French cheese?\")\n",
    "]"
   ]
  },
  {
   "cell_type": "code",
   "execution_count": 11,
   "metadata": {},
   "outputs": [],
   "source": [
    "api_params = dict ( model=MODEL, messages=MESSAGES )"
   ]
  },
  {
   "cell_type": "code",
   "execution_count": 13,
   "metadata": {},
   "outputs": [],
   "source": [
    "chat_response = client.chat( **api_params ) "
   ]
  },
  {
   "cell_type": "code",
   "execution_count": 23,
   "metadata": {},
   "outputs": [
    {
     "name": "stdout",
     "output_type": "stream",
     "text": [
      "Determining the \"best\" French cheese is subjective and depends on personal preference, as there are over 400 types of French cheese, each with unique flavors, textures, and milks sources. Here are some famous and beloved French cheeses that you might enjoy:\n",
      "\n",
      "1. Roquefort: A blue-veined sheep's milk cheese with a pungent, tangy flavor and a crumbly texture.\n",
      "2. Camembert: A soft, creamy cow's milk cheese with a white rind and a strong, earthy flavor.\n",
      "3. Brie de Meaux: A soft, creamy cow's milk cheese with a bloomy rind and a mild, buttery flavor.\n",
      "4. Comté: A hard, nutty cow's milk cheese with a delicate, sweet flavor and a firm, granular texture.\n",
      "5. Munster: A soft, pungent cow's milk cheese with a reddish-orange rind and a strong, smelly flavor.\n",
      "6. Reblochon: A soft, creamy cow's milk cheese with a bloomy rind and a mild, rich flavor.\n",
      "7. Époisses: A soft, pungent cow's milk cheese with a reddish-orange rind and a strong, savory flavor.\n",
      "\n",
      "Ultimately, the best French cheese is the one that suits your taste buds and complements your palate. You may want to try a few different types to find your favorite.\n"
     ]
    }
   ],
   "source": [
    "print(chat_response.choices[0].message.content)"
   ]
  },
  {
   "cell_type": "code",
   "execution_count": 24,
   "metadata": {},
   "outputs": [
    {
     "data": {
      "text/plain": [
       "UsageInfo(prompt_tokens=15, total_tokens=344, completion_tokens=329)"
      ]
     },
     "execution_count": 24,
     "metadata": {},
     "output_type": "execute_result"
    }
   ],
   "source": [
    "chat_response.usage"
   ]
  },
  {
   "cell_type": "markdown",
   "metadata": {},
   "source": [
    "## Streaming"
   ]
  },
  {
   "cell_type": "code",
   "execution_count": 35,
   "metadata": {},
   "outputs": [
    {
     "name": "stdout",
     "output_type": "stream",
     "text": [
      "Determining the \"best\" French cheese can be subjective as it depends on personal preferences, as there are over 400 types of French cheese, each with unique textures, flavors, and milk sources. Here are some popular and highly regarded French cheeses:\n",
      "\n",
      "1. Roquefort: A blue-veined cheese from the Massif Central region known for its strong, pungent flavor and creamy texture.\n",
      "2. Comté: A nutty and slightly sweet cheese from the Franche-Comté region, made from unpasteurized milk using the traditional method.\n",
      "3. Camembert: A soft, white-rinded cheese with a strong, earthy flavor and runny texture, hailing from Normandy.\n",
      "4. Brie de Meaux: A popular soft, bloomy-rinded cheese from the Ile-de-France region, known for its mild, buttery flavor and creamy texture.\n",
      "5. Munster: A pungent, smelly, and spicy cheese from the Alsace region, with a soft, runny texture.\n",
      "6. Reblochon: A soft, bloomy-rinded cheese from the Savoie region, known for its strong aroma and rich, creamy taste.\n",
      "7. Chèvre: Goat cheese, often fresh and soft, or aged and hard, with a tangy, slightly acidic flavor and varying textures.\n",
      "\n",
      "Ultimately, the \"best\" French cheese for you will depend on your personal taste preferences."
     ]
    }
   ],
   "source": [
    "full_response = \"\"\n",
    "for chunk in client.chat_stream(model=MODEL, messages=MESSAGES):\n",
    "    content = chunk.choices[0].delta.content or \"\"\n",
    "    print(content, end=\"\", flush=True)\n",
    "    full_response += content"
   ]
  },
  {
   "cell_type": "code",
   "execution_count": 33,
   "metadata": {},
   "outputs": [
    {
     "data": {
      "text/plain": [
       "ChatCompletionStreamResponse(id='cmpl-6b759adaac9c4682b1701251462ceba5', model='mistral-tiny', choices=[ChatCompletionResponseStreamChoice(index=0, delta=DeltaMessage(role=None, content=''), finish_reason=<FinishReason.stop: 'stop'>)], created=1704204962, object='chat.completion.chunk', usage=None)"
      ]
     },
     "execution_count": 33,
     "metadata": {},
     "output_type": "execute_result"
    }
   ],
   "source": [
    "chunk"
   ]
  },
  {
   "cell_type": "markdown",
   "metadata": {},
   "source": [
    "## Track tokens"
   ]
  },
  {
   "cell_type": "code",
   "execution_count": 51,
   "metadata": {},
   "outputs": [],
   "source": [
    "from transformers import AutoTokenizer\n",
    "tokenizer = AutoTokenizer.from_pretrained(\"mistralai/Mistral-7B-v0.1\")\n",
    "\n",
    "def n_tokens_from_str( string ):\n",
    "    return len( tokenizer.encode(string) )"
   ]
  },
  {
   "cell_type": "code",
   "execution_count": 53,
   "metadata": {},
   "outputs": [],
   "source": [
    "chat_response = client.chat( **api_params ) \n",
    "n = n_tokens_from_str(chat_response.choices[0].message.content)"
   ]
  },
  {
   "cell_type": "code",
   "execution_count": 54,
   "metadata": {},
   "outputs": [
    {
     "data": {
      "text/plain": [
       "(495, 494)"
      ]
     },
     "execution_count": 54,
     "metadata": {},
     "output_type": "execute_result"
    }
   ],
   "source": [
    "n, chat_response.usage.completion_tokens"
   ]
  },
  {
   "cell_type": "code",
   "execution_count": 62,
   "metadata": {},
   "outputs": [
    {
     "name": "stdout",
     "output_type": "stream",
     "text": [
      "15 15\n",
      "46 46\n",
      "85 85\n"
     ]
    }
   ],
   "source": [
    "input_messages = [\n",
    "    [\n",
    "        ChatMessage(role=\"user\", content=\"What is the best French cheese?\"),\n",
    "    ],\n",
    "    [\n",
    "        ChatMessage(role=\"user\", content=\"What is the best French cheese?\"),\n",
    "        ChatMessage(role=\"assistant\", content=\"You know, France isn't the only place with excellent cheeses.\"),\n",
    "        ChatMessage(role=\"user\", content=\"What is the best Wisconsin cheese?\"),\n",
    "    ],\n",
    "    [\n",
    "        ChatMessage(role=\"user\", content=\"How is Wisconsin different from France?\"),\n",
    "        ChatMessage(role=\"assistant\", content=\"Wisconsin is a state in the United States. Frace is a country in Europe.\"),\n",
    "        ChatMessage(role=\"user\", content=\"Who is fancier, Parisiennes or Wisconsines?\"),\n",
    "        ChatMessage(role=\"assistant\", content=\"The French are fancier. Wisconsinites are decidedly less fancy.\"),\n",
    "        ChatMessage(role=\"user\", content=\"What is similar about them?\"),\n",
    "    ],\n",
    "]\n",
    "\n",
    "for msgs in input_messages:\n",
    "\n",
    "    # Couldn't find any examples on this, this is empirical, and subject to change at any time.\n",
    "    N_TOKENS_PER_MESSAGE = 3\n",
    "    TOKEN_BUFFER = 4\n",
    "\n",
    "    chat_response = client.chat( model=MODEL, messages=msgs )\n",
    "    n = TOKEN_BUFFER\n",
    "    for msg in msgs:\n",
    "        n += n_tokens_from_str(msg.content) + N_TOKENS_PER_MESSAGE\n",
    "    print(n, chat_response.usage.prompt_tokens)"
   ]
  }
 ],
 "metadata": {
  "kernelspec": {
   "display_name": "llm-typewriter",
   "language": "python",
   "name": "python3"
  },
  "language_info": {
   "codemirror_mode": {
    "name": "ipython",
    "version": 3
   },
   "file_extension": ".py",
   "mimetype": "text/x-python",
   "name": "python",
   "nbconvert_exporter": "python",
   "pygments_lexer": "ipython3",
   "version": "3.12.1"
  }
 },
 "nbformat": 4,
 "nbformat_minor": 2
}
